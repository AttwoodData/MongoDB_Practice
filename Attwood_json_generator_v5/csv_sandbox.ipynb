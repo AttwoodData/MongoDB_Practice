{
 "cells": [
  {
   "cell_type": "code",
   "execution_count": 1,
   "id": "6551a625",
   "metadata": {},
   "outputs": [],
   "source": [
    "import pandas as pd\n",
    "import numpy as np\n",
    "import csv\n",
    "from datetime import date, datetime, timedelta\n",
    "import re\n",
    "# random.seed(42)"
   ]
  },
  {
   "cell_type": "markdown",
   "id": "6fe3259c",
   "metadata": {},
   "source": [
    "# User-Defined Functions"
   ]
  },
  {
   "cell_type": "code",
   "execution_count": 2,
   "id": "34987e8d",
   "metadata": {},
   "outputs": [],
   "source": [
    "def random_float(start, finish, places=6, count=1, data_type=float):\n",
    "    '''\n",
    "    Dependency: numpy imported as np.\n",
    "    Outputs a float value up to the specified number of place. \n",
    "    Created for randomly generating GPS cooridnates.\n",
    "    random_float(\n",
    "                 start     = required, numeric value \n",
    "                 finish    = required, numeric value \n",
    "                 places    = 6, default -- positive integer value \n",
    "                 count     = 1, default -- positive integer value \n",
    "                 data_type = float, default -- also accepts str as value for string outputs.\n",
    "                )\n",
    "    '''\n",
    "    try:\n",
    "        _temp = np.asarray(0)\n",
    "    except:\n",
    "        print(\"Please import NumPy with the alias np.\")\n",
    "    \n",
    "    number_list = []\n",
    "    for i in range(count):\n",
    "        inte = str(np.random.randint(start//1, finish//1))\n",
    "        dec = \"\"\n",
    "        for i in range(places):\n",
    "             dec_dig = str(np.random.randint(0,10))\n",
    "             dec += dec_dig\n",
    "        number_list.append(data_type(inte+\".\"+dec))\n",
    "    return number_list"
   ]
  },
  {
   "cell_type": "code",
   "execution_count": 3,
   "id": "5c85476f",
   "metadata": {},
   "outputs": [],
   "source": [
    "def random_phone_num(count=1):\n",
    "    def phone_num():\n",
    "        _area_code = str(np.random.randint(201, 800))\n",
    "        _second_three = str(np.random.randint(201, 1000))\n",
    "        _last_four = str(np.random.randint(1000, 10000))\n",
    "        return _area_code+\"-\"+_second_three+\"-\"+_last_four \n",
    "    if count == 1:  \n",
    "        return phone_num()\n",
    "        \n",
    "    else:\n",
    "        random_phone_num_list =[]\n",
    "        for i in range(count):\n",
    "            random_phone_num_list.append(phone_num())\n",
    "        return random_phone_num_list\n",
    "    "
   ]
  },
  {
   "cell_type": "code",
   "execution_count": 4,
   "id": "51b2febe",
   "metadata": {},
   "outputs": [],
   "source": [
    "def later_date():\n",
    "    return date.today()+timedelta(days = np.random.randint(30, 1200))"
   ]
  },
  {
   "cell_type": "code",
   "execution_count": 104,
   "id": "3f0f76d5",
   "metadata": {},
   "outputs": [],
   "source": [
    "def hex_key(digits=6):\n",
    "    hex_key = \"\"\n",
    "    for i in range(digits):\n",
    "        hex_key += str(np.random.choice(['0','1','2','3','4','5','6','7',\n",
    "                                         '8','9','A','B','C','D','E','F']))\n",
    "    return hex_key"
   ]
  },
  {
   "cell_type": "code",
   "execution_count": 117,
   "id": "82ac1c3c",
   "metadata": {},
   "outputs": [],
   "source": [
    "company_age = 365*4\n",
    "company_founded = date.today()+timedelta(days = company_age)"
   ]
  },
  {
   "cell_type": "code",
   "execution_count": 148,
   "id": "fa864a9a",
   "metadata": {},
   "outputs": [],
   "source": [
    "def days_between(d1, d2):\n",
    "    '''Credit: Fred Foo, Stack Overkflow'''\n",
    "    d1 = datetime.strptime(str(d1), \"%Y-%m-%d\")\n",
    "    d2 = datetime.strptime(str(d2), \"%Y-%m-%d\")\n",
    "    return abs((d2 - d1).days)"
   ]
  },
  {
   "cell_type": "code",
   "execution_count": 150,
   "id": "4fe3b071",
   "metadata": {},
   "outputs": [],
   "source": [
    "def field_decider(a_list, prob=0.5):\n",
    "        values = [0, 1]\n",
    "        decider = np.random.choice(values, p=(1-prob,prob))\n",
    "        if decider > 0:\n",
    "            return np.random.choice(a_list)\n",
    "        else:\n",
    "            return \"None\""
   ]
  },
  {
   "cell_type": "markdown",
   "id": "c4c5660a",
   "metadata": {},
   "source": [
    "# Create customer records"
   ]
  },
  {
   "cell_type": "code",
   "execution_count": 5,
   "id": "fbf1e827",
   "metadata": {
    "scrolled": true
   },
   "outputs": [
    {
     "name": "stdout",
     "output_type": "stream",
     "text": [
      "<class 'list'> 258000\n"
     ]
    }
   ],
   "source": [
    "with open(\"first_names.csv\") as my_file:\n",
    "    first_names = my_file.read().split()\n",
    "\n",
    "print(type(first_names), len(first_names))"
   ]
  },
  {
   "cell_type": "code",
   "execution_count": 6,
   "id": "2fd913ea",
   "metadata": {},
   "outputs": [
    {
     "name": "stdout",
     "output_type": "stream",
     "text": [
      "<class 'list'> 151671\n"
     ]
    }
   ],
   "source": [
    "with open(\"last_names.csv\") as my_file:\n",
    "    last_names = my_file.read().split()\n",
    "last_names = [i.title() for i in last_names]\n",
    "\n",
    "print(type(last_names), len(last_names))"
   ]
  },
  {
   "cell_type": "code",
   "execution_count": 7,
   "id": "45705af7",
   "metadata": {},
   "outputs": [
    {
     "data": {
      "text/plain": [
       "'Glendenning'"
      ]
     },
     "execution_count": 7,
     "metadata": {},
     "output_type": "execute_result"
    }
   ],
   "source": [
    "np.random.choice(last_names)"
   ]
  },
  {
   "cell_type": "code",
   "execution_count": 8,
   "id": "bf7dfbc7",
   "metadata": {},
   "outputs": [
    {
     "name": "stdout",
     "output_type": "stream",
     "text": [
      "Butler Galbez\n",
      "Rush Linback\n",
      "Axel Messer\n",
      "Charlene Grindy\n",
      "Georgina Spacek\n",
      "Augustus Ponn\n",
      "Cherie Mahfouz\n",
      "Casandra Arafat\n",
      "Ezequiel Dahlager\n",
      "Cyril Castlen\n"
     ]
    }
   ],
   "source": [
    "# a few random names\n",
    "for i in range(10):\n",
    "    print(np.random.choice(first_names)+\" \"+np.random.choice(last_names))"
   ]
  },
  {
   "cell_type": "code",
   "execution_count": 9,
   "id": "d7afc60f",
   "metadata": {},
   "outputs": [
    {
     "name": "stdout",
     "output_type": "stream",
     "text": [
      "['01St St', '02Nd Ave', '02Nd St'] \n",
      "2703\n"
     ]
    }
   ],
   "source": [
    "with open(\"streets.csv\") as my_file:\n",
    "    streets = my_file.read().splitlines()\n",
    "streets = [i.title() for i in streets]\n",
    "\n",
    "print(f\"{streets[:3]} \\n{len(streets)}\")"
   ]
  },
  {
   "cell_type": "code",
   "execution_count": 10,
   "id": "595101e4",
   "metadata": {},
   "outputs": [
    {
     "data": {
      "text/plain": [
       "list"
      ]
     },
     "execution_count": 10,
     "metadata": {},
     "output_type": "execute_result"
    }
   ],
   "source": [
    "with open(\"city_state_zip.csv\") as my_file:\n",
    "    city_state_zip = my_file.read().splitlines()\n",
    "\n",
    "\n",
    "type(city_state_zip)"
   ]
  },
  {
   "cell_type": "code",
   "execution_count": 11,
   "id": "f8c96654",
   "metadata": {},
   "outputs": [
    {
     "data": {
      "text/plain": [
       "[('HOLTSVILLE', 'NY', '501'),\n",
       " ('AGAWAM', 'MA', '1001'),\n",
       " ('AMHERST', 'MA', '1002'),\n",
       " ('AMHERST', 'MA', '1003'),\n",
       " ('AMHERST', 'MA', '1004')]"
      ]
     },
     "execution_count": 11,
     "metadata": {},
     "output_type": "execute_result"
    }
   ],
   "source": [
    "city_state_zip = [tuple(i.split(', ')) for i in city_state_zip]\n",
    "\n",
    "city_state_zip[:5]"
   ]
  },
  {
   "cell_type": "markdown",
   "id": "26d57dfd",
   "metadata": {},
   "source": [
    "# A semi-complete customer record (no orders yet)"
   ]
  },
  {
   "cell_type": "code",
   "execution_count": 110,
   "id": "bfe36791",
   "metadata": {},
   "outputs": [],
   "source": [
    "def customer_record():\n",
    "    _loc_index = np.random.randint(0, len(city_state_zip)-1)\n",
    "    _location = city_state_zip[_loc_index] \n",
    "    _first_name = np.random.choice(first_names)\n",
    "    _last_name = np.random.choice(last_names)\n",
    "    \n",
    "    def construct_address():\n",
    "        _address = {}\n",
    "        _address['street_address'] = str(np.random.randint(1,12000))+\" \"+np.random.choice(streets)\n",
    "        _address['city'] = _location[0].title()\n",
    "        _address['state'] = _location[1]\n",
    "        _address['zip'] = _location[2]\n",
    "        _address['address_id'] = hex_key(4)\n",
    "        return _address\n",
    "        \n",
    "   \n",
    "    def construct_payment():\n",
    "        def construct_number():\n",
    "            card_number = \"\"\n",
    "            for i in range(4):\n",
    "                card_number += str(np.random.randint(1000, 9999))+\"-\"\n",
    "            return card_number[:-1]\n",
    "        \n",
    "        card_types = ['Visa', 'Mastercard', 'Discover', 'American Express']\n",
    "            \n",
    "        _payment = {}\n",
    "        _payment[\"card_number\"] = construct_number()\n",
    "        _payment[\"card_type\"] = np.random.choice(card_types)\n",
    "        _payment[\"exp_date\"] = later_date()\n",
    "        _payment[\"cvv\"] = np.random.randint(100,999)\n",
    "        \n",
    "        _choose_address = np.random.choice(_record['addresses'])\n",
    "        _payment[\"billing_address\"] = _choose_address['address_id'] \n",
    "        return _payment\n",
    "                                    \n",
    "        \n",
    "    _record = {}\n",
    "    _record['first_name'] = _first_name\n",
    "    _record['last_name'] = _last_name\n",
    "    _record['phone'] = random_phone_num()\n",
    "    _record['acct_created'] = date.today() - timedelta(days = np.random.randint(1, 720))\n",
    "    _record['cust_id'] = _first_name[:2].lower() + _last_name[:4].lower() + _record['phone'][-4:]\n",
    "    _record['addresses'] = []\n",
    "    \n",
    "    for i in range(np.random.randint(1,4)):\n",
    "        _record['addresses'].append(construct_address())\n",
    "    \n",
    "    _record['payment_method'] = construct_payment()\n",
    "    \n",
    "    return _record"
   ]
  },
  {
   "cell_type": "code",
   "execution_count": 113,
   "id": "dd24b7fe",
   "metadata": {},
   "outputs": [
    {
     "name": "stdout",
     "output_type": "stream",
     "text": [
      "{'first_name': 'Vern', 'last_name': 'Rebele', 'phone': '579-829-4409', 'acct_created': datetime.date(2021, 9, 17), 'cust_id': 'verebe4409', 'addresses': [{'street_address': '10088 Acacia Ave', 'city': 'Glen Ferris', 'state': 'WV', 'zip': '25090', 'address_id': 'C95C'}], 'payment_method': {'card_number': '4314-2102-4599-8265', 'card_type': 'Discover', 'exp_date': datetime.date(2024, 1, 21), 'cvv': 331, 'billing_address': 'C95C'}}\n"
     ]
    }
   ],
   "source": [
    "print(customer_record())"
   ]
  },
  {
   "cell_type": "code",
   "execution_count": 223,
   "id": "a15943b2",
   "metadata": {},
   "outputs": [],
   "source": [
    "customer_count = 50\n",
    "customer_collection = []\n",
    "for i in range(customer_count):\n",
    "    customer_collection.append(customer_record())\n",
    "customer_docs = pd.DataFrame(customer_collection)"
   ]
  },
  {
   "cell_type": "code",
   "execution_count": null,
   "id": "b686ddf4",
   "metadata": {},
   "outputs": [],
   "source": []
  },
  {
   "cell_type": "markdown",
   "id": "2e9740f4",
   "metadata": {},
   "source": [
    "# Reviews"
   ]
  },
  {
   "cell_type": "code",
   "execution_count": 34,
   "id": "2c8e66fc",
   "metadata": {},
   "outputs": [
    {
     "name": "stdout",
     "output_type": "stream",
     "text": [
      "['lorem', 'ipsum', 'dolor', 'sit', 'amet', 'consectetur', 'adipiscing', 'elit', 'sed', 'do', 'eiusmod', 'tempor', 'incididunt', 'ut', 'labore', 'et', 'dolore', 'magna', 'aliqua', 'ut', 'enim', 'ad', 'minim', 'veniam', 'quis', 'nostrud', 'exercitation', 'ullamco', 'laboris', 'nisi', 'ut', 'aliquip', 'ex', 'ea', 'commodo', 'consequat', 'duis', 'aute', 'irure', 'dolor', 'in', 'reprehenderit', 'in', 'voluptate', 'velit', 'esse', 'cillum', 'dolore', 'eu', 'fugiat', 'nulla', 'pariatur', 'excepteur', 'sint', 'occaecat', 'cupidatat', 'non', 'proident', 'sunt', 'in', 'culpa', 'qui', 'officia', 'deserunt', 'mollit', 'anim', 'id', 'est', 'laborum']\n"
     ]
    }
   ],
   "source": [
    "with open(\"lorem_ipsum.csv\") as my_file:\n",
    "    random_words = my_file.read().splitlines()\n",
    "for i in range(len(random_words)):\n",
    "    random_words[i] = re.sub(r\".*,\", \"\", random_words[i]).lower()\n",
    "random_words = random_words[1:]\n",
    "\n",
    "print(random_words)"
   ]
  },
  {
   "cell_type": "code",
   "execution_count": 35,
   "id": "e02c8bce",
   "metadata": {},
   "outputs": [],
   "source": [
    "def random_sentences(count=1):\n",
    "    def sentence():\n",
    "        my_sentence = \"\"\n",
    "        for i in range(np.random.randint(10, 20)):\n",
    "            my_sentence += np.random.choice(random_words, replace=False).lower()+\" \"\n",
    "        return my_sentence[0].upper()+my_sentence[1:-1]+\".\"\n",
    "    if count==1:\n",
    "        return sentence()\n",
    "    else:\n",
    "        many_sentences = \"\"\n",
    "        while count > 0:\n",
    "            many_sentences += \" \"+sentence()\n",
    "            count += -1\n",
    "        return many_sentences[1:]"
   ]
  },
  {
   "cell_type": "code",
   "execution_count": 36,
   "id": "96b7da91",
   "metadata": {},
   "outputs": [
    {
     "name": "stdout",
     "output_type": "stream",
     "text": [
      "Aute sint veniam elit veniam labore ullamco occaecat elit non cillum reprehenderit dolore nostrud veniam nisi ut adipiscing.\n"
     ]
    }
   ],
   "source": [
    "print(random_sentences(np.random.randint(1,4)))"
   ]
  },
  {
   "cell_type": "code",
   "execution_count": 235,
   "id": "8d8a25da",
   "metadata": {},
   "outputs": [],
   "source": [
    "def customer_review():\n",
    "    return {\"customer_id\": np.random.choice(customer_collection)['cust_id'], \n",
    "            \"rating\": np.random.randint(0,10)*0.5, \n",
    "            \"review\": random_sentences(np.random.randint(1,4))}"
   ]
  },
  {
   "cell_type": "code",
   "execution_count": 236,
   "id": "6df95100",
   "metadata": {},
   "outputs": [
    {
     "name": "stdout",
     "output_type": "stream",
     "text": [
      "{'customer_id': 'pipape3795', 'rating': 0.5, 'review': 'Cillum voluptate et velit lorem qui ut incididunt anim ea nostrud nisi qui sint aliqua ullamco. Dolore non adipiscing irure dolor in et excepteur labore deserunt sint anim.'}\n"
     ]
    }
   ],
   "source": [
    "print(customer_review())"
   ]
  },
  {
   "cell_type": "code",
   "execution_count": null,
   "id": "5e91723f",
   "metadata": {},
   "outputs": [],
   "source": []
  },
  {
   "cell_type": "markdown",
   "id": "dbe1d7fe",
   "metadata": {},
   "source": [
    "# Create Products"
   ]
  },
  {
   "cell_type": "code",
   "execution_count": 108,
   "id": "8b1bc42c",
   "metadata": {},
   "outputs": [],
   "source": [
    "def product_record():\n",
    "    bar_types = [\"Chocolate Bar\", \"Candy Bar\"]\n",
    "    centers = [\"soft\", \"fruit\", \"nut and chews\", \"chocolate and caramel\", \"chocolate and walnuts\"]\n",
    "    chocolate_types = ['milk chocolate', 'dark chocolate', 'white chocolate', 'assorted chocolate']\n",
    "    dietaries = [\"kosher\", \"egg free\", \"nut free\", \"sugar free\"]\n",
    "    fillings = ['caramel', 'milk chocolate ganache', 'dark chocolate ganache', 'marshmallow', 'creme']\n",
    "        \n",
    "    center_type = field_decider(centers, prob = 0.35)\n",
    "    chocolate_type = field_decider(chocolate_types)\n",
    "    dietary = field_decider(dietaries, prob = 0.2)\n",
    "    bar_type = field_decider(bar_types, prob=0.2)\n",
    "    filling_type = field_decider(fillings, prob=0.33)\n",
    "    \n",
    "    qualities = [center_type, chocolate_type, dietary, bar_type, filling_type]\n",
    "    qualities = list(filter(lambda i: i != \"None\", qualities))\n",
    "   \n",
    "    _record = {}\n",
    "    \n",
    "    _record['product_id']=hex_key(6)\n",
    "    _record['weight'] = str(np.random.randint(1, 25))+\" oz\"\n",
    "    _record['count'] = np.random.choice([1, np.random.randint(1, 25)])\n",
    "    _record['cost'] = 0.25*np.random.randint(4, 200)\n",
    "    _record['center_type'] = center_type\n",
    "    _record['chocolate_type'] = chocolate_type\n",
    "    _record['dietary'] = dietary\n",
    "    _record['bar_type'] = bar_type\n",
    "    _record['filling_type'] = filling_type\n",
    "    _record['qoh'] = np.random.randint(0, 500)\n",
    "    _record['reorder_indicator'] = np.random.choice([0, 1], p=(0.05, 0.95))\n",
    "    \n",
    "    reviews = []\n",
    "    for i in range(np.random.randint(0, 10)):\n",
    "        reviews.append(customer_review())\n",
    "        \n",
    "    _record['reviews'] = reviews\n",
    "    \n",
    "    \n",
    "    def candy_name_generator():\n",
    "        desc_start = ['mini', 'gold', 'cinnamon', 'birthday', 'butterscotch', 'scotchmallow', \n",
    "                      'assorted', 'lollypop', 'double', 'maple', 'triple', 'sour']\n",
    "        desc_end = ['balls', 'twists', 'krispys', 'bar', 'brittle', 'square', 'jackOLanterns', \n",
    "                    'bundle', 'bats', 'leaves']\n",
    "        candy_name = \"\"\n",
    "        if len(qualities)>1:\n",
    "            middle_1, middle_2 = qualities[0], qualities[1]\n",
    "            candy_name = np.random.choice(desc_start)+\" \"+middle_1+\" \"+middle_2+\" \"+np.random.choice(desc_end)\n",
    "        elif len(qualities)>0:\n",
    "            middle = qualities[0]\n",
    "            candy_name = np.random.choice(desc_start)+\" \"+middle+\" \"+np.random.choice(desc_end)          \n",
    "        else:\n",
    "            candy_name = np.random.choice(desc_start)+\" \"+np.random.choice(desc_end)\n",
    "        return candy_name\n",
    "    \n",
    "    \n",
    "    _record['product_name'] = candy_name_generator().title()\n",
    "    return _record\n",
    "        "
   ]
  },
  {
   "cell_type": "code",
   "execution_count": 109,
   "id": "d1172ffb",
   "metadata": {},
   "outputs": [
    {
     "name": "stdout",
     "output_type": "stream",
     "text": [
      "{'product_id': '9F4AE570', 'weight': '10 oz', 'count': 1, 'cost': 49.5, 'center_type': 'None', 'chocolate_type': 'white chocolate', 'dietary': 'None', 'bar_type': 'None', 'filling_type': 'None', 'qoh': 82, 'reorder_indicator': 1, 'reviews': [{'customer_id': 'colunb3794', 'rating': 2.0, 'review': 'Elit lorem ut sed exercitation deserunt ad proident ipsum aute cillum lorem labore incididunt in dolore. Fugiat reprehenderit enim reprehenderit officia consequat ea nostrud proident sunt est laborum anim magna officia sit eu ipsum ullamco.'}, {'customer_id': 'dipete6062', 'rating': 4.5, 'review': 'Fugiat dolor adipiscing eiusmod dolor reprehenderit ad veniam adipiscing est et ut. Dolore anim irure aliquip in eu ut commodo consequat nostrud velit qui reprehenderit ex dolor aliquip magna non. Enim eiusmod non deserunt minim est enim eiusmod mollit mollit duis aliqua voluptate fugiat irure enim nisi.'}, {'customer_id': 'rubour8823', 'rating': 2.0, 'review': 'Laboris sed fugiat aute sunt duis irure minim sit quis nostrud ut aliqua commodo consequat. Dolor incididunt in consectetur et ea ut est eiusmod et velit sint enim et enim consectetur sed.'}, {'customer_id': 'edlova7473', 'rating': 4.5, 'review': 'Sint enim irure id ullamco sint dolor aliqua do commodo. Do ut id sed ut est quis quis aliquip officia velit dolor laboris magna laborum et. Non ex dolor ipsum dolor cillum laborum sed velit officia in nostrud in dolore incididunt in.'}, {'customer_id': 'detake7163', 'rating': 2.0, 'review': 'Amet eu cillum ut excepteur veniam anim ad enim duis sunt enim in magna non occaecat culpa. Duis duis consequat laboris mollit nostrud aliqua nisi ad esse dolor amet ad ea. Labore ea laboris aliqua dolor sint eiusmod aute non et ullamco irure lorem dolor in tempor do fugiat nulla.'}, {'customer_id': 'gualmo1851', 'rating': 3.5, 'review': 'Nulla non ex qui proident lorem officia non sed cupidatat duis.'}, {'customer_id': 'bekall2207', 'rating': 3.0, 'review': 'Laborum voluptate ut officia et incididunt dolore ullamco sint cupidatat veniam irure incididunt in pariatur velit elit incididunt qui.'}, {'customer_id': 'nianim3119', 'rating': 2.5, 'review': 'Voluptate enim sunt cillum esse est ex quis nostrud duis ex.'}, {'customer_id': 'pemoat8507', 'rating': 4.0, 'review': 'Do proident nostrud deserunt anim reprehenderit laborum in amet lorem excepteur consectetur sit enim anim nostrud nulla lorem reprehenderit.'}], 'product_name': 'Maple White Chocolate Bats'}\n"
     ]
    }
   ],
   "source": [
    "print(product_record())"
   ]
  },
  {
   "cell_type": "code",
   "execution_count": 115,
   "id": "42651939",
   "metadata": {},
   "outputs": [],
   "source": [
    "product_count = 50\n",
    "product_collection = []\n",
    "for i in range(product_count):\n",
    "    product_collection.append(product_record())\n"
   ]
  },
  {
   "cell_type": "code",
   "execution_count": null,
   "id": "c97f55b6",
   "metadata": {},
   "outputs": [],
   "source": [
    "with open(r'product_collection.json', 'w') as file:\n",
    "    file.write(str(product_collection))"
   ]
  },
  {
   "cell_type": "markdown",
   "id": "a58d4993",
   "metadata": {},
   "source": [
    "# Generate an order"
   ]
  },
  {
   "cell_type": "code",
   "execution_count": null,
   "id": "dad8baf2",
   "metadata": {},
   "outputs": [],
   "source": []
  },
  {
   "cell_type": "code",
   "execution_count": null,
   "id": "b28bb5c5",
   "metadata": {},
   "outputs": [],
   "source": []
  },
  {
   "cell_type": "markdown",
   "id": "eacd8091",
   "metadata": {},
   "source": [
    "### Generate Promo Codes"
   ]
  },
  {
   "cell_type": "code",
   "execution_count": 136,
   "id": "5be9b41f",
   "metadata": {},
   "outputs": [],
   "source": [
    "order_date = date.today()\n",
    "def generate_promo():\n",
    "    _promo = {}\n",
    "    _promo['code'] = hex_key(12)\n",
    "    _promo['discount'] = round(np.random.uniform(low=.05, high=.50), 2)\n",
    "    return _promo\n",
    "\n",
    "promo_list =[]\n",
    "\n",
    "for i in range(20):\n",
    "    promo_list.append(generate_promo())\n",
    "\n",
    "def append_promo_dates(data= np.random.choice(promo_list), init_date=order_date):\n",
    "    start_date = init_date - timedelta(days=np.random.randint(0, company_age))\n",
    "    data['start_date'] = start_date\n",
    "    data['end_date'] = init_date +timedelta(days=np.random.randint(0, 60))\n",
    "    return data"
   ]
  },
  {
   "cell_type": "markdown",
   "id": "8728bcdf",
   "metadata": {},
   "source": [
    "### Generate Order Item entries"
   ]
  },
  {
   "cell_type": "code",
   "execution_count": 202,
   "id": "068975ff",
   "metadata": {},
   "outputs": [],
   "source": [
    "def order_items(docs=product_collection):\n",
    "    def weighted_number():\n",
    "        number_list = np.arange(1, 11, 1)\n",
    "        probs = probs = (0.5, 0.18, 0.13, 0.06, 0.04, 0.03, 0.02, 0.02, 0.01, 0.01)\n",
    "        return np.random.choice(number_list, p=probs)\n",
    "    \n",
    "    products_ordered = np.random.choice(docs, size=weighted_number(), replace=False)\n",
    "    _order_items = []\n",
    "    \n",
    "    for product in products_ordered: \n",
    "        _product_ordered = {}\n",
    "        _product_ordered['product_name'] = product['product_name']\n",
    "        _product_ordered['count'] = weighted_number()\n",
    "        _order_items.append(_product_ordered)\n",
    "        \n",
    "    return _order_items"
   ]
  },
  {
   "cell_type": "code",
   "execution_count": null,
   "id": "de9be8cd",
   "metadata": {},
   "outputs": [],
   "source": []
  },
  {
   "cell_type": "markdown",
   "id": "f90f483d",
   "metadata": {},
   "source": [
    "### Create an order"
   ]
  },
  {
   "cell_type": "code",
   "execution_count": 221,
   "id": "cccfa262",
   "metadata": {},
   "outputs": [],
   "source": [
    "def random_order(customer_record):\n",
    "    acct_created = customer_record[\"acct_created\"]\n",
    "    ship_to = np.random.choice(customer_record[\"addresses\"])\n",
    "    valid_day_delta = days_between(acct_created, date.today())\n",
    "    order_date = acct_created + timedelta(days = np.random.randint(0, valid_day_delta))\n",
    "\n",
    "    def append_promo_dates(data= np.random.choice(promo_list), init_date=order_date):\n",
    "        start_date = init_date - timedelta(days=np.random.randint(0, company_age))\n",
    "        data['start_date'] = start_date\n",
    "        data['end_date'] = init_date +timedelta(days=np.random.randint(0, 60))\n",
    "        return data\n",
    "                               \n",
    "                               \n",
    "    _order = {}\n",
    "    \n",
    "    _order['order_id'] = hex_key(10)\n",
    "    _order['order_date'] = order_date\n",
    "    _order['order_items'] = order_items()\n",
    "    _order['address_id'] = ship_to['address_id']\n",
    "    _order['shipping_cost'] = round(np.random.uniform(low=0, high=50), 2)\n",
    "    \n",
    "    promo = field_decider(promo_list, 0.25)\n",
    "    if promo != \"None\":\n",
    "        promo = append_promo_dates(data=promo)\n",
    "    _order['promotion'] = promo\n",
    "    \n",
    "    return _order\n",
    "    "
   ]
  },
  {
   "cell_type": "code",
   "execution_count": 225,
   "id": "85e56786",
   "metadata": {},
   "outputs": [],
   "source": [
    "order_ct = np.arange(0, 10, 1)\n",
    "order_ct_probs = (0.05, 0.4, 0.2, 0.1, 0.05, 0.05, 0.05, 0.05, 0.025, 0.025)\n",
    "    \n",
    "for document in customer_collection:\n",
    "    i = np.random.choice(order_ct, p=order_ct_probs)\n",
    "    document[\"order\"] = []\n",
    "    while i > 0:\n",
    "        document[\"order\"].append(random_order(document))\n",
    "        i += -1\n",
    "\n",
    "# Alter Date syntax for JSON interpretability. Replace \" ' \" w/ \" \" \".\n",
    "regex = r\"datetime.date.(?P<year>[\\d]{4})\\, (?P<month>[\\d]+)\\, (?P<day>[\\d]+).\"\n",
    "cc_str = str(customer_collection).replace('\\'', \"\\\"\")\n",
    "cc_str = re.sub(regex, r'\"\\g<year>-\\g<month>-\\g<day>\"', cc_str)\n",
    "\n",
    "with open(r'customer_collection.json', 'w') as file:\n",
    "    file.write(cc_str)"
   ]
  },
  {
   "cell_type": "code",
   "execution_count": 232,
   "id": "d82afd40",
   "metadata": {},
   "outputs": [
    {
     "name": "stdout",
     "output_type": "stream",
     "text": [
      "[{'first_name': 'Marta', 'last_name': 'Howe', 'phone': '753-744-2490', 'acct_created': datetime.date(2020, 11, 11), 'cust_id': 'mahowe2490', 'addresses': [{'street_address': '2756 Copper Aly', 'city': 'Caddo', 'state': 'OK', 'zip': '74729', 'address_id': '81FB'}], 'payment_method': {'card_number': '5471-5821-1964-7840', 'card_type': 'Visa', 'exp_date': datetime.date(2023, 2, 20), 'cvv': 873, 'billing_address': '81FB'}, 'orders': {'order_id': 'F6B058EE14', 'order_date': datetime.date(2015, 3, 21), 'order_items': [{'product_name': 'Cinnamon Soft Dark Chocolate Jackolanterns', 'count': 2}, {'product_name': 'Sour Bats', 'count': 1}, {'product_name': 'Sour Chocolate And Caramel Dark Chocolate Leaves', 'count': 2}, {'product_name': 'Lollypop Bats', 'count': 1}, {'product_name': 'Triple Assorted Chocolate Leaves', 'count': 2}, {'product_name': 'Double Brittle', 'count': 2}, {'product_name': 'Mini Milk Chocolate Egg Free Brittle', 'count': 4}, {'product_name': 'Maple Marshmallow Bundle', 'count': 1}], 'address_id': '81FB', 'shipping_cost': 37.48, 'promotion': 'None'}}, {'first_name': 'Iliana', 'last_name': 'Pudelko', 'phone': '776-988-7559', 'acct_created': datetime.date(2020, 12, 7), 'cust_id': 'ilpude7559', 'addresses': [{'street_address': '4421 Emmett Ct', 'city': 'Waring', 'state': 'TX', 'zip': '78074', 'address_id': '17BA'}, {'street_address': '9785 Bay St', 'city': 'Waring', 'state': 'TX', 'zip': '78074', 'address_id': '81A4'}, {'street_address': '2293 Ralston Ave', 'city': 'Waring', 'state': 'TX', 'zip': '78074', 'address_id': '4488'}], 'payment_method': {'card_number': '9771-6928-3548-7751', 'card_type': 'Discover', 'exp_date': datetime.date(2025, 9, 16), 'cvv': 564, 'billing_address': '4488'}, 'orders': {'order_id': '6E737B0C2B', 'order_date': datetime.date(2016, 11, 9), 'order_items': [{'product_name': 'Assorted Assorted Chocolate Krispys', 'count': 1}, {'product_name': 'Mini Milk Chocolate Egg Free Brittle', 'count': 8}, {'product_name': 'Sour Chocolate And Caramel Dark Chocolate Leaves', 'count': 3}, {'product_name': 'Double Bats', 'count': 1}], 'address_id': '17BA', 'shipping_cost': 36.28, 'promotion': 'None'}}, {'first_name': 'Valeria', 'last_name': 'Hyder', 'phone': '385-530-6241', 'acct_created': datetime.date(2021, 3, 1), 'cust_id': 'vahyde6241', 'addresses': [{'street_address': '3347 Brosnan St', 'city': 'San Diego', 'state': 'CA', 'zip': '92179', 'address_id': '88DA'}, {'street_address': '4198 Parkridge Dr', 'city': 'San Diego', 'state': 'CA', 'zip': '92179', 'address_id': 'E829'}, {'street_address': '593 Hillside Ln', 'city': 'San Diego', 'state': 'CA', 'zip': '92179', 'address_id': 'E56E'}], 'payment_method': {'card_number': '3797-4140-9816-4559', 'card_type': 'American Express', 'exp_date': datetime.date(2025, 9, 7), 'cvv': 131, 'billing_address': '88DA'}, 'orders': {'order_id': '8B6F9B4708', 'order_date': datetime.date(2015, 11, 25), 'order_items': [{'product_name': 'Cinnamon Soft White Chocolate Brittle', 'count': 2}], 'address_id': 'E829', 'shipping_cost': 42.0, 'promotion': 'None'}}, {'first_name': 'Randall', 'last_name': 'Prutzman', 'phone': '239-891-5612', 'acct_created': datetime.date(2022, 2, 18), 'cust_id': 'raprut5612', 'addresses': [{'street_address': '6392 Addison St', 'city': 'Silver City', 'state': 'MS', 'zip': '39166', 'address_id': 'F1D8'}], 'payment_method': {'card_number': '8852-7804-3651-2343', 'card_type': 'Mastercard', 'exp_date': datetime.date(2023, 9, 27), 'cvv': 660, 'billing_address': 'F1D8'}, 'orders': {'order_id': '24B720D19D', 'order_date': datetime.date(2021, 4, 19), 'order_items': [{'product_name': 'Cinnamon Chocolate And Walnuts Dark Chocolate Bundle', 'count': 8}], 'address_id': 'F1D8', 'shipping_cost': 20.82, 'promotion': 'None'}}, {'first_name': 'Jannie', 'last_name': 'Freemyer', 'phone': '562-307-5040', 'acct_created': datetime.date(2021, 5, 10), 'cust_id': 'jafree5040', 'addresses': [{'street_address': '7315 Unnamed 108', 'city': 'Bradford', 'state': 'NY', 'zip': '14815', 'address_id': 'ECEA'}, {'street_address': '3755 18Th Ave', 'city': 'Bradford', 'state': 'NY', 'zip': '14815', 'address_id': '6866'}], 'payment_method': {'card_number': '4118-5051-5853-3061', 'card_type': 'American Express', 'exp_date': datetime.date(2025, 1, 27), 'cvv': 623, 'billing_address': 'ECEA'}, 'orders': {'order_id': '4E78AEB106', 'order_date': datetime.date(2019, 9, 6), 'order_items': [{'product_name': 'Assorted White Chocolate Krispys', 'count': 1}], 'address_id': '6866', 'shipping_cost': 44.04, 'promotion': 'None'}}]\n"
     ]
    }
   ],
   "source": []
  },
  {
   "cell_type": "code",
   "execution_count": 234,
   "id": "6d7c962b",
   "metadata": {},
   "outputs": [],
   "source": [
    "with open(r'customer_collection.json', 'w') as file:\n",
    "    file.write(str(customer_collection))\n",
    "    "
   ]
  },
  {
   "cell_type": "code",
   "execution_count": null,
   "id": "66881440",
   "metadata": {},
   "outputs": [],
   "source": []
  },
  {
   "cell_type": "code",
   "execution_count": null,
   "id": "4886da1a",
   "metadata": {},
   "outputs": [],
   "source": []
  },
  {
   "cell_type": "code",
   "execution_count": null,
   "id": "ec06ca6e",
   "metadata": {},
   "outputs": [],
   "source": []
  },
  {
   "cell_type": "code",
   "execution_count": null,
   "id": "32c9155c",
   "metadata": {},
   "outputs": [],
   "source": []
  },
  {
   "cell_type": "code",
   "execution_count": null,
   "id": "1069c22f",
   "metadata": {},
   "outputs": [],
   "source": []
  },
  {
   "cell_type": "code",
   "execution_count": null,
   "id": "bcae6d2a",
   "metadata": {},
   "outputs": [],
   "source": []
  },
  {
   "cell_type": "code",
   "execution_count": null,
   "id": "831f2755",
   "metadata": {},
   "outputs": [],
   "source": []
  },
  {
   "cell_type": "code",
   "execution_count": null,
   "id": "b0bdee4f",
   "metadata": {},
   "outputs": [],
   "source": []
  },
  {
   "cell_type": "code",
   "execution_count": null,
   "id": "9caef0f1",
   "metadata": {},
   "outputs": [],
   "source": []
  },
  {
   "cell_type": "code",
   "execution_count": null,
   "id": "b306d73d",
   "metadata": {},
   "outputs": [],
   "source": []
  },
  {
   "cell_type": "code",
   "execution_count": null,
   "id": "de11c0b4",
   "metadata": {},
   "outputs": [],
   "source": []
  },
  {
   "cell_type": "code",
   "execution_count": null,
   "id": "03ac9870",
   "metadata": {},
   "outputs": [],
   "source": []
  },
  {
   "cell_type": "code",
   "execution_count": null,
   "id": "ef835c4f",
   "metadata": {},
   "outputs": [],
   "source": []
  },
  {
   "cell_type": "code",
   "execution_count": null,
   "id": "1f30916c",
   "metadata": {},
   "outputs": [],
   "source": []
  },
  {
   "cell_type": "code",
   "execution_count": null,
   "id": "2734837b",
   "metadata": {},
   "outputs": [],
   "source": []
  },
  {
   "cell_type": "code",
   "execution_count": null,
   "id": "e5686373",
   "metadata": {},
   "outputs": [],
   "source": []
  },
  {
   "cell_type": "code",
   "execution_count": null,
   "id": "88c4d302",
   "metadata": {},
   "outputs": [],
   "source": []
  },
  {
   "cell_type": "code",
   "execution_count": null,
   "id": "c6923b6a",
   "metadata": {},
   "outputs": [],
   "source": []
  },
  {
   "cell_type": "code",
   "execution_count": null,
   "id": "ffbda2c7",
   "metadata": {},
   "outputs": [],
   "source": []
  },
  {
   "cell_type": "code",
   "execution_count": null,
   "id": "87682eb5",
   "metadata": {},
   "outputs": [],
   "source": []
  },
  {
   "cell_type": "code",
   "execution_count": null,
   "id": "b4855ca7",
   "metadata": {},
   "outputs": [],
   "source": []
  },
  {
   "cell_type": "code",
   "execution_count": null,
   "id": "b5ad1d3a",
   "metadata": {},
   "outputs": [],
   "source": []
  },
  {
   "cell_type": "code",
   "execution_count": null,
   "id": "22ff0a26",
   "metadata": {},
   "outputs": [],
   "source": []
  },
  {
   "cell_type": "code",
   "execution_count": null,
   "id": "63c10c52",
   "metadata": {},
   "outputs": [],
   "source": []
  },
  {
   "cell_type": "code",
   "execution_count": null,
   "id": "43cdc9bb",
   "metadata": {},
   "outputs": [],
   "source": []
  },
  {
   "cell_type": "code",
   "execution_count": null,
   "id": "0052e2b3",
   "metadata": {},
   "outputs": [],
   "source": []
  },
  {
   "cell_type": "code",
   "execution_count": null,
   "id": "47f092fa",
   "metadata": {},
   "outputs": [],
   "source": []
  },
  {
   "cell_type": "code",
   "execution_count": null,
   "id": "86240ccf",
   "metadata": {},
   "outputs": [],
   "source": []
  },
  {
   "cell_type": "code",
   "execution_count": null,
   "id": "60471726",
   "metadata": {},
   "outputs": [],
   "source": []
  },
  {
   "cell_type": "code",
   "execution_count": null,
   "id": "61f48bc9",
   "metadata": {},
   "outputs": [],
   "source": []
  },
  {
   "cell_type": "code",
   "execution_count": null,
   "id": "932952bb",
   "metadata": {},
   "outputs": [],
   "source": []
  },
  {
   "cell_type": "code",
   "execution_count": null,
   "id": "d2f8e837",
   "metadata": {},
   "outputs": [],
   "source": []
  },
  {
   "cell_type": "code",
   "execution_count": null,
   "id": "242b67c8",
   "metadata": {},
   "outputs": [],
   "source": []
  },
  {
   "cell_type": "code",
   "execution_count": null,
   "id": "2d2b1e2c",
   "metadata": {},
   "outputs": [],
   "source": []
  },
  {
   "cell_type": "code",
   "execution_count": null,
   "id": "ee4906f5",
   "metadata": {},
   "outputs": [],
   "source": []
  },
  {
   "cell_type": "markdown",
   "id": "59b56e27",
   "metadata": {},
   "source": [
    "## Experiments"
   ]
  },
  {
   "cell_type": "markdown",
   "id": "5c302634",
   "metadata": {},
   "source": [
    "#### Bring in street names list"
   ]
  },
  {
   "cell_type": "code",
   "execution_count": null,
   "id": "00ca4794",
   "metadata": {},
   "outputs": [],
   "source": [
    "df_streets = pd.read_csv(\"street_names_df.csv\")"
   ]
  },
  {
   "cell_type": "code",
   "execution_count": null,
   "id": "97d92f7f",
   "metadata": {},
   "outputs": [],
   "source": [
    "df_streets.describe()"
   ]
  },
  {
   "cell_type": "code",
   "execution_count": null,
   "id": "98b8bc7c",
   "metadata": {},
   "outputs": [],
   "source": [
    "streets_array = np.asarray(df_streets.FullStreetName)"
   ]
  },
  {
   "cell_type": "code",
   "execution_count": null,
   "id": "b48e6942",
   "metadata": {},
   "outputs": [],
   "source": [
    "len(streets_array)"
   ]
  },
  {
   "cell_type": "code",
   "execution_count": null,
   "id": "09e64b8b",
   "metadata": {},
   "outputs": [],
   "source": [
    "np.savetxt(\"streets.csv\", streets_array, delimiter=\", \", fmt='% s')"
   ]
  },
  {
   "cell_type": "code",
   "execution_count": null,
   "id": "8f639bd4",
   "metadata": {},
   "outputs": [],
   "source": []
  },
  {
   "cell_type": "markdown",
   "id": "e8870324",
   "metadata": {},
   "source": [
    "#### Build city, state, zip list"
   ]
  },
  {
   "cell_type": "code",
   "execution_count": null,
   "id": "59d7b698",
   "metadata": {},
   "outputs": [],
   "source": [
    "df_city_state_zip = pd.read_csv(\"city_state_zip_df.csv\")\n",
    "df_city_state_zip.info()"
   ]
  },
  {
   "cell_type": "code",
   "execution_count": null,
   "id": "4fbb9a3c",
   "metadata": {},
   "outputs": [],
   "source": [
    "_city = df_city_state_zip.City\n",
    "_state = df_city_state_zip.State\n",
    "_zip = df_city_state_zip.zip\n",
    "\n",
    "loc_iterator = zip(_city, _state, _zip)\n",
    "city_state_zip = list(loc_iterator)\n",
    "print(city_state_zip[:3])\n",
    "print(city_state_zip[0][0])\n",
    "print(city_state_zip[0][1])\n",
    "print(city_state_zip[0][2])"
   ]
  },
  {
   "cell_type": "code",
   "execution_count": null,
   "id": "3d2124c9",
   "metadata": {},
   "outputs": [],
   "source": [
    "city_state_zip = np.asarray(city_state_zip)\n",
    "np.savetxt(\"city_state_zip.csv\", city_state_zip, delimiter=\", \", fmt='% s')"
   ]
  },
  {
   "cell_type": "code",
   "execution_count": null,
   "id": "76e5f1f8",
   "metadata": {},
   "outputs": [],
   "source": [
    "#with open('city_state_zip.csv','w') as out:\n",
    "    #csv_out=csv.writer(out)\n",
    "    #csv_out.writerow(['name','num'])\n",
    "    #for row in data:\n",
    "        #csv_out.writerow(row)"
   ]
  },
  {
   "cell_type": "code",
   "execution_count": null,
   "id": "e0baf456",
   "metadata": {},
   "outputs": [],
   "source": []
  },
  {
   "cell_type": "code",
   "execution_count": null,
   "id": "641a33c5",
   "metadata": {},
   "outputs": [],
   "source": []
  },
  {
   "cell_type": "code",
   "execution_count": null,
   "id": "cd0219f3",
   "metadata": {},
   "outputs": [],
   "source": []
  },
  {
   "cell_type": "code",
   "execution_count": null,
   "id": "f92abdb3",
   "metadata": {},
   "outputs": [],
   "source": []
  },
  {
   "cell_type": "code",
   "execution_count": null,
   "id": "a4532645",
   "metadata": {},
   "outputs": [],
   "source": [
    "#FN = pd.read_csv(\"First_Name.csv\")\n",
    "#type(FN)\n",
    "#FN.head()\n",
    "#FN = FN.squeeze()\n",
    "#x = np.asarray(FN)\n",
    "#type(x)\n",
    "#np.savetxt(\"First_Names_list.csv\", x, delimiter=\", \", fmt='% s')"
   ]
  },
  {
   "cell_type": "code",
   "execution_count": null,
   "id": "4eabc200",
   "metadata": {
    "scrolled": false
   },
   "outputs": [],
   "source": [
    "# pip install geopy"
   ]
  },
  {
   "cell_type": "code",
   "execution_count": null,
   "id": "f02f7e5a",
   "metadata": {},
   "outputs": [],
   "source": [
    "from geopy.geocoders import Nominatim"
   ]
  },
  {
   "cell_type": "code",
   "execution_count": null,
   "id": "bb3833b1",
   "metadata": {},
   "outputs": [],
   "source": [
    "geolocator = Nominatim(user_agent=\"geoapiExercises\")"
   ]
  },
  {
   "cell_type": "code",
   "execution_count": null,
   "id": "5ff18294",
   "metadata": {},
   "outputs": [],
   "source": [
    "c = str(3.5555555555%1).replace(\"0.\", \"\")"
   ]
  },
  {
   "cell_type": "code",
   "execution_count": null,
   "id": "e4cf9b03",
   "metadata": {},
   "outputs": [],
   "source": [
    "np.random.randint(0, int(c))"
   ]
  },
  {
   "cell_type": "code",
   "execution_count": null,
   "id": "483663aa",
   "metadata": {},
   "outputs": [],
   "source": [
    "c = \"\"\n",
    "for i in range(5):\n",
    "    d = str(np.random.randint(0,9))\n",
    "    c += d\n",
    "print(c)"
   ]
  },
  {
   "cell_type": "code",
   "execution_count": null,
   "id": "714b9595",
   "metadata": {},
   "outputs": [],
   "source": []
  },
  {
   "cell_type": "code",
   "execution_count": null,
   "id": "d3608afc",
   "metadata": {},
   "outputs": [],
   "source": [
    "def random_float(start, finish, places=6, count=1, data_type=float):\n",
    "    '''\n",
    "    Dependency: numpy imported as np.\n",
    "    Outputs a float value up to the specified number of place. \n",
    "    Created for randomly generating GPS cooridnates.\n",
    "    random_float(\n",
    "                 start     = required, numeric value \n",
    "                 finish    = required, numeric value \n",
    "                 places    = 6, default -- positive integer value \n",
    "                 count     = 1, default -- positive integer value \n",
    "                 data_type = float, default -- also accepts str as value for string outputs.\n",
    "                )\n",
    "    '''\n",
    "    try:\n",
    "        _temp = np.asarray(0)\n",
    "    except:\n",
    "        print(\"Please import NumPy with the alias np.\")\n",
    "    \n",
    "    number_list = []\n",
    "    for i in range(count):\n",
    "        inte = str(np.random.randint(start//1, finish//1))\n",
    "        dec = \"\"\n",
    "        for i in range(places):\n",
    "             dec_dig = str(np.random.randint(0,9))\n",
    "             dec += dec_dig\n",
    "        number_list.append(data_type(inte+\".\"+dec))\n",
    "    return number_list"
   ]
  },
  {
   "cell_type": "code",
   "execution_count": null,
   "id": "c4fbd181",
   "metadata": {},
   "outputs": [],
   "source": [
    "print(random_float(100, 200, 6, 10, str))\n",
    "print(random_float.__doc__)"
   ]
  },
  {
   "cell_type": "code",
   "execution_count": null,
   "id": "93859cae",
   "metadata": {},
   "outputs": [],
   "source": [
    "Latitude = \"34.651285\"\n",
    "Longitude = \"-120.432129\""
   ]
  },
  {
   "cell_type": "code",
   "execution_count": null,
   "id": "33cfa9e0",
   "metadata": {},
   "outputs": [],
   "source": [
    "addresses=[]\n",
    "i=5\n",
    "while i>0:\n",
    "    location = geolocator.reverse(random_float(34, 41)[0]+\",\"+random_float(-120, -76)[0])\n",
    "    if len(location.address.split(\", \")) > 5:\n",
    "        addresses.append(location)\n",
    "        i = i - 1\n",
    "    else:\n",
    "        continue\n",
    "for i in len(addresses)"
   ]
  },
  {
   "cell_type": "code",
   "execution_count": null,
   "id": "323f550a",
   "metadata": {},
   "outputs": [],
   "source": [
    "list(enumerate(addresses))"
   ]
  },
  {
   "cell_type": "code",
   "execution_count": null,
   "id": "0ea61de5",
   "metadata": {},
   "outputs": [],
   "source": [
    "random_float(-120, -76)[0]"
   ]
  },
  {
   "cell_type": "code",
   "execution_count": null,
   "id": "9ea30995",
   "metadata": {},
   "outputs": [],
   "source": []
  },
  {
   "cell_type": "markdown",
   "id": "d05e8ea9",
   "metadata": {},
   "source": [
    "#### Random Text"
   ]
  },
  {
   "cell_type": "code",
   "execution_count": null,
   "id": "3613c99d",
   "metadata": {},
   "outputs": [],
   "source": [
    "with open(\"lorem_ipsum_string.txt\") as my_file:\n",
    "    random_words = my_file.read().replace(\",\", \"\").replace(\".\", \"\").replace(\"\\\"\", \"\").split()\n",
    "print(random_words)"
   ]
  },
  {
   "cell_type": "code",
   "execution_count": null,
   "id": "813f0e50",
   "metadata": {},
   "outputs": [],
   "source": [
    "df = pd.DataFrame({\"words\": random_words})\n",
    "df.to_csv(\"lorem_ipsum.csv\")"
   ]
  },
  {
   "cell_type": "code",
   "execution_count": null,
   "id": "d838a9ac",
   "metadata": {},
   "outputs": [],
   "source": [
    "my_sentence = \"\"\n",
    "for i in range(np.random.randint(10, 30)):\n",
    "    my_sentence += np.random.choice(random_words).lower()+\" \"\n",
    "\n",
    "print(my_sentence[0].upper()+my_sentence[1:-1]+\".\")"
   ]
  },
  {
   "cell_type": "code",
   "execution_count": null,
   "id": "c3c15bf4",
   "metadata": {},
   "outputs": [],
   "source": []
  },
  {
   "cell_type": "code",
   "execution_count": null,
   "id": "d4bd913c",
   "metadata": {},
   "outputs": [],
   "source": []
  },
  {
   "cell_type": "code",
   "execution_count": null,
   "id": "5e4283b3",
   "metadata": {},
   "outputs": [],
   "source": []
  },
  {
   "cell_type": "code",
   "execution_count": null,
   "id": "22e91890",
   "metadata": {},
   "outputs": [],
   "source": []
  },
  {
   "cell_type": "code",
   "execution_count": null,
   "id": "9e5dca65",
   "metadata": {},
   "outputs": [],
   "source": []
  }
 ],
 "metadata": {
  "kernelspec": {
   "display_name": "Python 3 (ipykernel)",
   "language": "python",
   "name": "python3"
  },
  "language_info": {
   "codemirror_mode": {
    "name": "ipython",
    "version": 3
   },
   "file_extension": ".py",
   "mimetype": "text/x-python",
   "name": "python",
   "nbconvert_exporter": "python",
   "pygments_lexer": "ipython3",
   "version": "3.9.12"
  }
 },
 "nbformat": 4,
 "nbformat_minor": 5
}
