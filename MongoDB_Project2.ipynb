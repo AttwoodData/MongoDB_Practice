{
 "cells": [
  {
   "cell_type": "markdown",
   "id": "79907570",
   "metadata": {},
   "source": [
    "### Mark Attwood <br /> IS 257 650"
   ]
  },
  {
   "cell_type": "code",
   "execution_count": 1,
   "id": "3d6d7dab",
   "metadata": {},
   "outputs": [],
   "source": [
    "from pymongo import MongoClient\n",
    "import numpy as np\n",
    "import pandas as pd\n",
    "from datetime import datetime"
   ]
  },
  {
   "cell_type": "code",
   "execution_count": 2,
   "id": "165aec1a",
   "metadata": {},
   "outputs": [],
   "source": [
    "client = MongoClient()"
   ]
  },
  {
   "cell_type": "code",
   "execution_count": 3,
   "id": "f3513867",
   "metadata": {},
   "outputs": [
    {
     "data": {
      "text/plain": [
       "pymongo.mongo_client.MongoClient"
      ]
     },
     "execution_count": 3,
     "metadata": {},
     "output_type": "execute_result"
    }
   ],
   "source": [
    "type(client)"
   ]
  },
  {
   "cell_type": "code",
   "execution_count": 4,
   "id": "48fdfd16",
   "metadata": {},
   "outputs": [
    {
     "name": "stdout",
     "output_type": "stream",
     "text": [
      "{'name': 'Attwood', 'sizeOnDisk': 724992, 'empty': False} <class 'dict'>\n",
      "{'name': 'DBA', 'sizeOnDisk': 380928, 'empty': False} <class 'dict'>\n",
      "{'name': 'admin', 'sizeOnDisk': 40960, 'empty': False} <class 'dict'>\n",
      "{'name': 'config', 'sizeOnDisk': 98304, 'empty': False} <class 'dict'>\n",
      "{'name': 'local', 'sizeOnDisk': 81920, 'empty': False} <class 'dict'>\n",
      "{'name': 'nobel', 'sizeOnDisk': 376832, 'empty': False} <class 'dict'>\n"
     ]
    }
   ],
   "source": [
    "for daba in client.list_databases():\n",
    "    print(daba, type(daba))"
   ]
  },
  {
   "cell_type": "code",
   "execution_count": 5,
   "id": "e5c71310",
   "metadata": {},
   "outputs": [],
   "source": [
    "db = client[\"DBA\"]"
   ]
  },
  {
   "cell_type": "code",
   "execution_count": 6,
   "id": "25261a81",
   "metadata": {},
   "outputs": [
    {
     "data": {
      "text/plain": [
       "['Products', 'Customers']"
      ]
     },
     "execution_count": 6,
     "metadata": {},
     "output_type": "execute_result"
    }
   ],
   "source": [
    "db.list_collection_names(filter = {})"
   ]
  },
  {
   "cell_type": "code",
   "execution_count": 7,
   "id": "eca30810",
   "metadata": {},
   "outputs": [],
   "source": [
    "customer = db.Customers.find_one()\n",
    "product = db.Products.find_one()"
   ]
  },
  {
   "cell_type": "code",
   "execution_count": 8,
   "id": "caf8338b",
   "metadata": {},
   "outputs": [
    {
     "name": "stdout",
     "output_type": "stream",
     "text": [
      "['_id', 'first_name', 'last_name', 'phone', 'acct_created', 'cust_id', 'shipping_addresses', 'primary_address', 'payment_method', 'order']\n",
      "['_id', 'product_id', 'weight', 'count', 'cost', 'center_type', 'chocolate_type', 'dietary', 'bar_type', 'filling_type', 'qoh', 'reorder_indicator', 'reviews', 'product_name']\n"
     ]
    }
   ],
   "source": [
    "print(list(customer.keys()))\n",
    "print(list(product.keys()))"
   ]
  },
  {
   "cell_type": "code",
   "execution_count": 9,
   "id": "c193228d",
   "metadata": {},
   "outputs": [
    {
     "name": "stdout",
     "output_type": "stream",
     "text": [
      "_id: 63699d696532e28b6fd8df26\n",
      "\n",
      "product_id: 1FE8EC\n",
      "\n",
      "weight: 1 oz\n",
      "\n",
      "count: 1\n",
      "\n",
      "cost: 22.5\n",
      "\n",
      "center_type: fruit\n",
      "\n",
      "chocolate_type: None\n",
      "\n",
      "dietary: None\n",
      "\n",
      "bar_type: None\n",
      "\n",
      "filling_type: marshmallow\n",
      "\n",
      "qoh: 260\n",
      "\n",
      "reorder_indicator: 0\n",
      "\n",
      "reviews: [{'customer_id': 'trtrec1615', 'rating': 0.5, 'review': 'Sint sunt anim labore aliqua non ipsum culpa officia esse voluptate magna in eu ex. Sed ipsum sint in dolore officia culpa consectetur magna tempor ea irure aliqua aliquip laborum sunt. Dolor aute excepteur nostrud est consectetur dolor ex velit irure laborum amet lorem commodo ut consectetur irure.'}, {'customer_id': 'comume7611', 'rating': 4, 'review': 'Excepteur ut dolore mollit excepteur nisi enim occaecat cupidatat minim in nulla reprehenderit. Irure ea dolor ea veniam fugiat dolore ut enim occaecat cupidatat ut in aute.'}, {'customer_id': 'lashor4447', 'rating': 2, 'review': 'In duis sint reprehenderit consequat qui in ut aliqua enim. Ipsum tempor ad in cillum nisi culpa velit ullamco ut.'}, {'customer_id': 'amwine6355', 'rating': 4.5, 'review': 'Eu fugiat culpa veniam amet sit in et duis dolor laboris voluptate. Officia id qui velit eu sunt culpa sit nulla commodo tempor occaecat mollit dolor consequat pariatur.'}, {'customer_id': 'debenl5286', 'rating': 3, 'review': 'Nisi ad reprehenderit reprehenderit aliqua incididunt adipiscing sunt cillum duis in nostrud occaecat nostrud. Amet amet aliquip in cupidatat aute qui sunt ad ipsum occaecat ut consectetur sunt officia dolor ut irure ad.'}, {'customer_id': 'ligrot1266', 'rating': 3, 'review': 'Excepteur consectetur dolor enim non esse elit ex pariatur ipsum do proident. In sed mollit commodo deserunt esse consectetur ea eu aliquip duis aliqua dolore fugiat fugiat excepteur.'}, {'customer_id': 'cltomi3359', 'rating': 2.5, 'review': 'Aliqua minim qui dolore laboris amet qui enim in proident veniam consequat.'}]\n",
      "\n",
      "product_name: Lollypop Fruit Marshmallow Jackolanterns\n",
      "\n"
     ]
    }
   ],
   "source": [
    "for key in product.keys():\n",
    "    print(f\"{key}: {product[key]}\\n\")"
   ]
  },
  {
   "cell_type": "code",
   "execution_count": 10,
   "id": "0843f7c0",
   "metadata": {},
   "outputs": [
    {
     "name": "stdout",
     "output_type": "stream",
     "text": [
      "_id: 636975cf92e8018b85258ad7\n",
      "\n",
      "first_name: Johnny\n",
      "\n",
      "last_name: Trahan\n",
      "\n",
      "phone: 370-977-9493\n",
      "\n",
      "acct_created: 2021-08-04 00:00:00\n",
      "\n",
      "cust_id: jotrah9493\n",
      "\n",
      "shipping_addresses: [{'street_address': '8045 Alberta St', 'city': 'Jonesborough', 'state': 'TN', 'zip': '37659', 'address_id': '7C28'}]\n",
      "\n",
      "primary_address: {'street_address': '8045 Alberta St', 'city': 'Jonesborough', 'state': 'TN', 'zip': '37659', 'address_id': '7C28'}\n",
      "\n",
      "payment_method: {'card_number': '3676-9161-2729-7373', 'card_type': 'American Express', 'exp_date': datetime.datetime(2023, 4, 27, 0, 0), 'cvv': 659, 'billing_address': {'street_address': '8045 Alberta St', 'city': 'Jonesborough', 'state': 'TN', 'zip': '37659', 'address_id': '7C28'}}\n",
      "\n",
      "order: [{'order_id': '6C1CCE9803', 'order_date': datetime.datetime(2022, 3, 23, 0, 0), 'order_items': [{'product_name': 'Sour Chocolate And Walnuts Assorted Chocolate Twists', 'price': 43.75, 'count': 1}, {'product_name': 'Double Dark Chocolate Brittle', 'price': 3.5, 'count': 1}], 'address_id': '7C28', 'shipping_cost': 15.94, 'promotion': 'None'}, {'order_id': '30733C9FFC', 'order_date': datetime.datetime(2022, 6, 24, 0, 0), 'order_items': [{'product_name': 'Mini Dark Chocolate Marshmallow Krispys', 'price': 17.5, 'count': 2}], 'address_id': '7C28', 'shipping_cost': 23.54, 'promotion': 'None'}, {'order_id': '765213BB98', 'order_date': datetime.datetime(2022, 8, 21, 0, 0), 'order_items': [{'product_name': 'Assorted Bats', 'price': 11.25, 'count': 2}], 'address_id': '7C28', 'shipping_cost': 36.12, 'promotion': {'code': 'E2E7CCCF2022', 'discount': 0.3, 'start_date': datetime.datetime(2020, 10, 23, 0, 0), 'end_date': datetime.datetime(2022, 11, 15, 0, 0)}}]\n",
      "\n"
     ]
    }
   ],
   "source": [
    "for key in customer.keys():\n",
    "    print(f\"{key}: {customer[key]}\\n\")"
   ]
  },
  {
   "cell_type": "markdown",
   "id": "48488078",
   "metadata": {},
   "source": [
    "# Part A: Create queries to provide the following key metrics:\n",
    "\n",
    "##  a. Generate a query to show all your customers sorted by customer last name"
   ]
  },
  {
   "cell_type": "code",
   "execution_count": 11,
   "id": "340fda9c",
   "metadata": {},
   "outputs": [],
   "source": [
    "last_names = np.asarray(db.Customers.distinct(\"last_name\"))"
   ]
  },
  {
   "cell_type": "code",
   "execution_count": 12,
   "id": "6169093c",
   "metadata": {},
   "outputs": [
    {
     "name": "stdout",
     "output_type": "stream",
     "text": [
      "['Aaland' 'Abarr' 'Abdulkarim' 'Abebe' 'Acquilano']\n",
      "499\n"
     ]
    }
   ],
   "source": [
    "print(last_names[:5])\n",
    "print(len(last_names))"
   ]
  },
  {
   "cell_type": "markdown",
   "id": "987bb91a",
   "metadata": {},
   "source": [
    "## b. Generate a query to show the number customers by state and sorted by state in ascending order"
   ]
  },
  {
   "cell_type": "code",
   "execution_count": 13,
   "id": "2f0e8d60",
   "metadata": {},
   "outputs": [
    {
     "data": {
      "text/plain": [
       "[{'_id': 'AK', 'Count': 3},\n",
       " {'_id': 'AL', 'Count': 14},\n",
       " {'_id': 'AR', 'Count': 10},\n",
       " {'_id': 'AZ', 'Count': 7},\n",
       " {'_id': 'CA', 'Count': 24},\n",
       " {'_id': 'CO', 'Count': 10},\n",
       " {'_id': 'CT', 'Count': 4},\n",
       " {'_id': 'DC', 'Count': 1},\n",
       " {'_id': 'DE', 'Count': 1},\n",
       " {'_id': 'FL', 'Count': 22}]"
      ]
     },
     "execution_count": 13,
     "metadata": {},
     "output_type": "execute_result"
    }
   ],
   "source": [
    "# From original documents\n",
    "list(db.Customers.aggregate([\n",
    "    {\"$project\": {\"first_address\": {\"$first\": \"$shipping_addresses\"}}},\n",
    "    {\"$project\": {\"state\": \"$first_address.state\"}},\n",
    "    {\"$group\": {\"_id\": \"$state\", \"Count\": {\"$sum\": 1}}},\n",
    "    {\"$sort\": {\"_id\": 1}},\n",
    "    {\"$limit\": 10}\n",
    "]))"
   ]
  },
  {
   "cell_type": "code",
   "execution_count": 14,
   "id": "e7438081",
   "metadata": {},
   "outputs": [
    {
     "data": {
      "text/plain": [
       "[{'_id': 'AK', 'Count': 3},\n",
       " {'_id': 'AL', 'Count': 14},\n",
       " {'_id': 'AR', 'Count': 10},\n",
       " {'_id': 'AZ', 'Count': 7},\n",
       " {'_id': 'CA', 'Count': 24},\n",
       " {'_id': 'CO', 'Count': 10},\n",
       " {'_id': 'CT', 'Count': 4},\n",
       " {'_id': 'DC', 'Count': 1},\n",
       " {'_id': 'DE', 'Count': 1},\n",
       " {'_id': 'FL', 'Count': 22}]"
      ]
     },
     "execution_count": 14,
     "metadata": {},
     "output_type": "execute_result"
    }
   ],
   "source": [
    "# From appended documents (added a non-array address field)\n",
    "list(db.Customers.aggregate([\n",
    "    {\"$group\": {\"_id\": \"$primary_address.state\", \"Count\": {\"$sum\": 1}}},\n",
    "    {\"$sort\": {\"_id\": 1}},\n",
    "    {\"$limit\": 10}\n",
    "]))"
   ]
  },
  {
   "cell_type": "markdown",
   "id": "05e8127a",
   "metadata": {},
   "source": [
    "## c. Generate a query to show all your products"
   ]
  },
  {
   "cell_type": "code",
   "execution_count": 15,
   "id": "ab05426c",
   "metadata": {},
   "outputs": [],
   "source": [
    "product_names = db.Products.distinct(\"product_name\")"
   ]
  },
  {
   "cell_type": "code",
   "execution_count": 16,
   "id": "35d4930f",
   "metadata": {},
   "outputs": [
    {
     "data": {
      "text/plain": [
       "['Assorted Bats',\n",
       " 'Assorted Chocolate Bar Caramel Square',\n",
       " 'Assorted Fruit Dark Chocolate Ganache Bats',\n",
       " 'Assorted Nut And Chews Dark Chocolate Bats',\n",
       " 'Assorted Soft Dark Chocolate Balls',\n",
       " 'Assorted White Chocolate Dark Chocolate Ganache Bar',\n",
       " 'Birthday Assorted Chocolate Nut Free Brittle',\n",
       " 'Birthday Assorted Chocolate Sugar Free Krispys',\n",
       " 'Birthday Chocolate Bar Bar',\n",
       " 'Birthday Creme Brittle',\n",
       " 'Birthday Milk Chocolate Jackolanterns',\n",
       " 'Birthday Nut And Chews Krispys',\n",
       " 'Birthday Soft Milk Chocolate Brittle',\n",
       " 'Birthday Twists',\n",
       " 'Butterscotch Assorted Chocolate Candy Bar Twists',\n",
       " 'Butterscotch Chocolate And Walnuts Milk Chocolate Jackolanterns',\n",
       " 'Butterscotch Chocolate Bar Dark Chocolate Ganache Krispys',\n",
       " 'Butterscotch Dark Chocolate Balls',\n",
       " 'Butterscotch Dark Chocolate Nut Free Twists']"
      ]
     },
     "execution_count": 16,
     "metadata": {},
     "output_type": "execute_result"
    }
   ],
   "source": [
    "product_names[1:20]"
   ]
  },
  {
   "cell_type": "markdown",
   "id": "cfddce3b",
   "metadata": {},
   "source": [
    "## d) Generate a query to show all products by names and count sold for a specific date range"
   ]
  },
  {
   "cell_type": "code",
   "execution_count": 17,
   "id": "4446142f",
   "metadata": {},
   "outputs": [
    {
     "data": {
      "text/plain": [
       "[{'_id': 'Gold Twists', 'total': 71},\n",
       " {'_id': 'Mini Balls', 'total': 68},\n",
       " {'_id': 'Gold Chocolate Bar Caramel Krispys', 'total': 65},\n",
       " {'_id': 'Mini Chocolate And Walnuts Milk Chocolate Ganache Bar', 'total': 63},\n",
       " {'_id': 'Triple Chocolate Bar Milk Chocolate Ganache Leaves', 'total': 59},\n",
       " {'_id': 'Cinnamon Fruit Balls', 'total': 58},\n",
       " {'_id': 'Mini Dark Chocolate Milk Chocolate Ganache Square', 'total': 57},\n",
       " {'_id': 'Butterscotch Square', 'total': 52},\n",
       " {'_id': 'Maple Jackolanterns', 'total': 50},\n",
       " {'_id': 'Triple Nut And Chews Dark Chocolate Ganache Bundle', 'total': 46}]"
      ]
     },
     "execution_count": 17,
     "metadata": {},
     "output_type": "execute_result"
    }
   ],
   "source": [
    "# Count of each products sold in 2021\n",
    "list(db.Customers.aggregate([\n",
    "    {\"$match\": {\"order.order_date\": {\"$gte\": datetime(2021, 1, 1)},\n",
    "               \"order.order_date\": {\"$lt\": datetime(2022, 1, 1)}}},\n",
    "    {\"$unwind\": \"$order\"},\n",
    "    {\"$unwind\": \"$order.order_items\"},\n",
    "    \n",
    "    {\"$group\": {\"_id\": \"$order.order_items.product_name\", \"total\": {\"$sum\": \"$order.order_items.count\"}}},\n",
    "    {\"$sort\": {\"total\": -1}},\n",
    "    {\"$limit\": 10}\n",
    "]))"
   ]
  },
  {
   "cell_type": "markdown",
   "id": "cb55c68e",
   "metadata": {},
   "source": [
    "# Part B: More Advanced Aggregation Piplelines\n",
    "\n",
    "##  e. Generate a report to show the bestselling product by month, quarter and year"
   ]
  },
  {
   "cell_type": "markdown",
   "id": "95be05fe",
   "metadata": {},
   "source": [
    "#### 10 top selling products among all years"
   ]
  },
  {
   "cell_type": "code",
   "execution_count": 18,
   "id": "bc2ece49",
   "metadata": {},
   "outputs": [
    {
     "data": {
      "text/plain": [
       "[{'_id': 'Lollypop White Chocolate Creme Bar', 'revenue': 6064.25},\n",
       " {'_id': 'Maple Jackolanterns', 'revenue': 4510.5},\n",
       " {'_id': 'Birthday Milk Chocolate Jackolanterns', 'revenue': 3965.0},\n",
       " {'_id': 'Assorted Fruit Dark Chocolate Ganache Bats', 'revenue': 3952.5},\n",
       " {'_id': 'Sour Chocolate And Walnuts Assorted Chocolate Twists',\n",
       "  'revenue': 3937.5},\n",
       " {'_id': 'Cinnamon Fruit Balls', 'revenue': 3744},\n",
       " {'_id': 'Butterscotch Square', 'revenue': 3538.75},\n",
       " {'_id': 'Assorted Nut And Chews Dark Chocolate Bats', 'revenue': 3500.0},\n",
       " {'_id': 'Double Chocolate And Walnuts Egg Free Leaves', 'revenue': 3448.75},\n",
       " {'_id': 'Triple Nut And Chews White Chocolate Bundle', 'revenue': 3423.75}]"
      ]
     },
     "execution_count": 18,
     "metadata": {},
     "output_type": "execute_result"
    }
   ],
   "source": [
    "list(db.Customers.aggregate([\n",
    "    {\"$unwind\": \"$order\"},\n",
    "    {\"$unwind\": \"$order.order_items\"},\n",
    "    {\"$group\": {\"_id\": \"$order.order_items.product_name\", \n",
    "                \"revenue\": {\"$sum\": {\"$multiply\":[\"$order.order_items.count\", \"$order.order_items.price\"]}}}},\n",
    "    {\"$sort\": {\"revenue\": -1}},\n",
    "    {\"$limit\": 10} \n",
    "]))"
   ]
  },
  {
   "cell_type": "markdown",
   "id": "c1d0e379",
   "metadata": {},
   "source": [
    "#### Total sales for each year"
   ]
  },
  {
   "cell_type": "code",
   "execution_count": 19,
   "id": "e7edd013",
   "metadata": {},
   "outputs": [
    {
     "data": {
      "text/plain": [
       "[{'_id': datetime.datetime(2020, 1, 1, 0, 0), 'revenue': 356.5},\n",
       " {'_id': datetime.datetime(2021, 1, 1, 0, 0), 'revenue': 36758.5},\n",
       " {'_id': datetime.datetime(2022, 1, 1, 0, 0), 'revenue': 136176.25}]"
      ]
     },
     "execution_count": 19,
     "metadata": {},
     "output_type": "execute_result"
    }
   ],
   "source": [
    "list(db.Customers.aggregate([\n",
    "    {\"$unwind\": \"$order\"},\n",
    "    {\"$unwind\": \"$order.order_items\"},\n",
    "    {\"$project\": {\"product_name\": \"$order.order_items.product_name\", \n",
    "                  \"price\": \"$order.order_items.price\",\n",
    "                  \"quantity\": \"$order.order_items.count\",\n",
    "                  \"revenue\": {\"$multiply\":[\"$order.order_items.count\", \"$order.order_items.price\"]},\n",
    "                  \"order_date\": \"$order.order_date\"}},\n",
    "    {\"$bucket\": {\n",
    "        \"groupBy\": \"$order_date\", \n",
    "        \"boundaries\": [datetime(2020, 1, 1), datetime(2021, 1, 1), datetime(2022, 1, 1), datetime(2023, 1, 1)],\n",
    "        \"output\": { \n",
    "                \"revenue\": {\"$sum\": {\"$multiply\":[\"$quantity\", \"$price\"]}}\n",
    "        }  \n",
    "    }},   \n",
    "]))"
   ]
  },
  {
   "cell_type": "code",
   "execution_count": 20,
   "id": "55906093",
   "metadata": {},
   "outputs": [],
   "source": [
    "docs = list(db.Customers.aggregate([\n",
    "    {\"$unwind\": \"$order\"},\n",
    "    {\"$unwind\": \"$order.order_items\"},\n",
    "    {\"$project\": {\"_id\": 0,\n",
    "                  \"product_name\": \"$order.order_items.product_name\", \n",
    "                  \"price\": \"$order.order_items.price\",\n",
    "                  \"quantity\": \"$order.order_items.count\",\n",
    "                  \"revenue\": {\"$multiply\":[\"$order.order_items.count\", \"$order.order_items.price\"]},\n",
    "                  \"order_date\": \"$order.order_date\",\n",
    "                  \"year\": {\"$year\": \"$acct_created\" },\n",
    "                  \"month\": {\"$month\": \"$order.order_date\"},\n",
    "                  \"quarter\": {\"$cond\": [{ \"$lte\": [{ \"$month\": \"$order.order_date\" }, 3] }, \"1st Quarter\",\n",
    "                             {\"$cond\": [{ \"$lte\": [{ \"$month\": \"$order.order_date\" }, 6] }, \"2nd Quarter\",\n",
    "                             {\"$cond\": [{ \"$lte\": [{ \"$month\": \"$order.order_date\" }, 9] }, \"3rd Quarter\", \n",
    "                                        \"4th Quarter\"],\n",
    "              },],},],},},\n",
    "    },\n",
    "    {\"$group\": {\"_id\":  [\"$product_name\", \"$quarter\", \"$year\"],\n",
    "                \"revenue\": {\"$sum\": {\"$multiply\":[\"$quantity\", \"$price\"]}}}},\n",
    "    #{\"$sort\": { \"revenue\": -1,\"year\": 1}},\n",
    "    #{\"$limit\": 10} \n",
    "]))"
   ]
  },
  {
   "cell_type": "code",
   "execution_count": 21,
   "id": "968f1089",
   "metadata": {},
   "outputs": [
    {
     "name": "stdout",
     "output_type": "stream",
     "text": [
      "Best Revenue Generator by Quarter \n",
      "\n",
      "1st Quarter, 2020 \n",
      "Lollypop White Chocolate Creme Bar: $525.25\n",
      "\n",
      "2nd Quarter, 2020 \n",
      "Mini Nut And Chews Leaves: $397.5\n",
      "\n",
      "3rd Quarter, 2020 \n",
      "Lollypop White Chocolate Creme Bar: $477.5\n",
      "\n",
      "4th Quarter, 2020 \n",
      "Sour Chocolate And Walnuts Assorted Chocolate Twists: $306.25\n",
      "\n",
      "1st Quarter, 2021 \n",
      "Assorted Fruit Dark Chocolate Ganache Bats: $1069.5\n",
      "\n",
      "2nd Quarter, 2021 \n",
      "Lollypop White Chocolate Creme Bar: $1337.0\n",
      "\n",
      "3rd Quarter, 2021 \n",
      "Maple Jackolanterns: $1255.5\n",
      "\n",
      "4th Quarter, 2021 \n",
      "Maple Jackolanterns: $1023.0\n",
      "\n",
      "1st Quarter, 2022 \n",
      "Butterscotch Sugar Free Dark Chocolate Ganache Twists: $530.75\n",
      "\n",
      "2nd Quarter, 2022 \n",
      "Mini Marshmallow Brittle: $830.0\n",
      "\n",
      "3rd Quarter, 2022 \n",
      "Sour Chocolate And Walnuts Assorted Chocolate Twists: $1356.25\n",
      "\n",
      "4th Quarter, 2022 \n",
      "Assorted Fruit Dark Chocolate Ganache Bats: $1255.5\n",
      "\n"
     ]
    }
   ],
   "source": [
    "index = -1\n",
    "best_items = []\n",
    "years = [2020, 2021, 2022]\n",
    "quarters = [\"1st Quarter\", \"2nd Quarter\", \"3rd Quarter\", \"4th Quarter\"]\n",
    "\n",
    "for year in years:\n",
    "    for quarter in quarters:\n",
    "        best_revenue = 0\n",
    "        index += 1\n",
    "        best_items.append(\"temp\")\n",
    "        for doc in docs:\n",
    "            if doc['_id'][1] == quarter and doc['_id'][2] == year:\n",
    "                if doc[\"revenue\"] > best_revenue:\n",
    "                    best_revenue = doc[\"revenue\"]\n",
    "                    best_items[index] = doc\n",
    "\n",
    "print(\"Best Revenue Generator by Quarter \\n\")\n",
    "x = enumerate(best_items)\n",
    "for i in range(len(best_items)):\n",
    "    item = next(x)\n",
    "    print(f\"{item[1]['_id'][1]}, {item[1]['_id'][2]} \\n{item[1]['_id'][0]}: ${item[1]['revenue']}\\n\")"
   ]
  },
  {
   "cell_type": "code",
   "execution_count": 22,
   "id": "48b23f2a",
   "metadata": {},
   "outputs": [
    {
     "name": "stdout",
     "output_type": "stream",
     "text": [
      "Worst Revenue Generator by Quarter \n",
      "\n",
      "1st Quarter, 2020 \n",
      "Double Chocolate And Walnuts Kosher Jackolanterns: $2.25\n",
      "\n",
      "2nd Quarter, 2020 \n",
      "Cinnamon Nut And Chews Bats: $1.5\n",
      "\n",
      "3rd Quarter, 2020 \n",
      "Sour Nut And Chews Assorted Chocolate Twists: $3\n",
      "\n",
      "4th Quarter, 2020 \n",
      "Double Chocolate And Walnuts Kosher Jackolanterns: $2.25\n",
      "\n",
      "1st Quarter, 2021 \n",
      "Double Chocolate And Walnuts Kosher Jackolanterns: $4.5\n",
      "\n",
      "2nd Quarter, 2021 \n",
      "Cinnamon Nut And Chews Bats: $10.5\n",
      "\n",
      "3rd Quarter, 2021 \n",
      "Assorted White Chocolate Dark Chocolate Ganache Bar: $13\n",
      "\n",
      "4th Quarter, 2021 \n",
      "Maple Chocolate And Caramel Chocolate Bar Square: $3.25\n",
      "\n",
      "1st Quarter, 2022 \n",
      "Triple Chocolate Bar Milk Chocolate Ganache Leaves: $1.25\n",
      "\n",
      "2nd Quarter, 2022 \n",
      "Assorted White Chocolate Dark Chocolate Ganache Bar: $1\n",
      "\n",
      "3rd Quarter, 2022 \n",
      "Double Chocolate And Walnuts Kosher Jackolanterns: $4.5\n",
      "\n",
      "4th Quarter, 2022 \n",
      "Assorted White Chocolate Dark Chocolate Ganache Bar: $4\n",
      "\n"
     ]
    }
   ],
   "source": [
    "index = -1\n",
    "worst_items = []\n",
    "years = [2020, 2021, 2022]\n",
    "quarters = [\"1st Quarter\", \"2nd Quarter\", \"3rd Quarter\", \"4th Quarter\"]\n",
    "\n",
    "for year in years:\n",
    "    for quarter in quarters:\n",
    "        worst_revenue = 100000\n",
    "        index += 1\n",
    "        worst_items.append(\"temp\")\n",
    "        for doc in docs:\n",
    "            if doc['_id'][1] == quarter and doc['_id'][2] == year:\n",
    "                if doc[\"revenue\"] < worst_revenue:\n",
    "                    worst_revenue = doc[\"revenue\"]\n",
    "                    worst_items[index] = doc\n",
    "\n",
    "print(\"Worst Revenue Generator by Quarter \\n\")\n",
    "x = enumerate(worst_items)\n",
    "for i in range(len(worst_items)):\n",
    "    item = next(x)\n",
    "    print(f\"{item[1]['_id'][1]}, {item[1]['_id'][2]} \\n{item[1]['_id'][0]}: ${item[1]['revenue']}\\n\")"
   ]
  },
  {
   "cell_type": "markdown",
   "id": "606fd2f1",
   "metadata": {},
   "source": [
    "## Generate a report to show the total revenue for each product sold between January 2022 and June 2022. **Extra credit: 5 points **"
   ]
  },
  {
   "cell_type": "code",
   "execution_count": 23,
   "id": "ea81b44e",
   "metadata": {},
   "outputs": [
    {
     "data": {
      "text/plain": [
       "[{'_id': 'Maple Chocolate And Walnuts Dark Chocolate Ganache Bats',\n",
       "  'total_sales': 1729.0},\n",
       " {'_id': 'Double Chocolate And Walnuts Kosher Jackolanterns',\n",
       "  'total_sales': 101.25},\n",
       " {'_id': 'Cinnamon Nut And Chews Bats', 'total_sales': 66.0},\n",
       " {'_id': 'Double White Chocolate Candy Bar Bats', 'total_sales': 2242.5},\n",
       " {'_id': 'Mini Marshmallow Brittle', 'total_sales': 2656.0},\n",
       " {'_id': 'Sour Bar', 'total_sales': 949.0},\n",
       " {'_id': 'Assorted Bats', 'total_sales': 630.0},\n",
       " {'_id': 'Sour Fruit White Chocolate Krispys', 'total_sales': 1433.25},\n",
       " {'_id': 'Gold Nut And Chews Krispys', 'total_sales': 832.5},\n",
       " {'_id': 'Gold Nut And Chews Bats', 'total_sales': 1551}]"
      ]
     },
     "execution_count": 23,
     "metadata": {},
     "output_type": "execute_result"
    }
   ],
   "source": [
    "list(db.Customers.aggregate([\n",
    "    {\"$match\": {\"order.order_date\": {\"$gte\": datetime(2022, 1, 1)},\n",
    "               \"order.order_date\": {\"$lt\": datetime(2022, 7, 1)}}},\n",
    "    {\"$unwind\": \"$order\"},\n",
    "    {\"$unwind\": \"$order.order_items\"},\n",
    "    {\"$project\": {\"_id\": 0,\n",
    "                  \"product_name\": \"$order.order_items.product_name\", \n",
    "                  \"price\": \"$order.order_items.price\",\n",
    "                  \"quantity\": \"$order.order_items.count\",\n",
    "                  \"revenue\": {\"$multiply\":[\"$order.order_items.count\", \"$order.order_items.price\"]}\n",
    "                 }\n",
    "    },\n",
    "    \n",
    "    {\"$group\": {\"_id\": \"$product_name\", \"total_sales\": {\"$sum\": \"$revenue\"}}},\n",
    "    {\"$sort\": {\"total\": -1}},\n",
    "    {\"$limit\": 10}\n",
    "]))"
   ]
  },
  {
   "cell_type": "markdown",
   "id": "775a2b41",
   "metadata": {},
   "source": [
    "# Extra Queries"
   ]
  },
  {
   "cell_type": "markdown",
   "id": "ac7d2238",
   "metadata": {},
   "source": [
    "## Which 3 customers spent the most on shipping in 2021?"
   ]
  },
  {
   "cell_type": "code",
   "execution_count": 24,
   "id": "a58fb8a1",
   "metadata": {},
   "outputs": [
    {
     "data": {
      "text/plain": [
       "[{'_id': 'Camryn Staal', 'shipping_costs': 171.75},\n",
       " {'_id': 'Hessie Casem', 'shipping_costs': 169.76},\n",
       " {'_id': 'Hugo Rogotzke', 'shipping_costs': 157.49}]"
      ]
     },
     "execution_count": 24,
     "metadata": {},
     "output_type": "execute_result"
    }
   ],
   "source": [
    "list(db.Customers.aggregate([\n",
    "    \n",
    "    {\"$unwind\": \"$order\"},\n",
    "    {\"$match\": {\"order.order_date\": {\"$gte\": datetime(2021, 1, 1)},\n",
    "               \"order.order_date\": {\"$lt\": datetime(2022, 1, 1)}}},\n",
    "    {\"$group\": {\"_id\": {\"$concat\": [\"$first_name\", \" \", \"$last_name\"]}, \n",
    "                \"shipping_costs\": {\"$sum\": \"$order.shipping_cost\"}}},\n",
    "    {\"$sort\": {\"shipping_costs\": -1}},\n",
    "    {\"$limit\": 3}\n",
    "]))"
   ]
  },
  {
   "cell_type": "markdown",
   "id": "a96ca297",
   "metadata": {},
   "source": [
    "## How many new accounts created each year?"
   ]
  },
  {
   "cell_type": "code",
   "execution_count": 25,
   "id": "e3513881",
   "metadata": {},
   "outputs": [
    {
     "data": {
      "text/plain": [
       "[{'_id': 2021, 'accounts created': 265},\n",
       " {'_id': 2022, 'accounts created': 196},\n",
       " {'_id': 2020, 'accounts created': 39}]"
      ]
     },
     "execution_count": 25,
     "metadata": {},
     "output_type": "execute_result"
    }
   ],
   "source": [
    "\n",
    "list(db.Customers.aggregate([\n",
    "    {\"$project\": {\n",
    "        \"name\": {\"$concat\": [\"$first_name\", \" \", \"$last_name\"]}, \n",
    "        \"year\": {\"$year\": \"$acct_created\"}}},\n",
    "    {\"$group\": {\"_id\": \"$year\", \"accounts created\": {\"$sum\": 1}}},         \n",
    "]))"
   ]
  },
  {
   "cell_type": "markdown",
   "id": "d6217eb4",
   "metadata": {},
   "source": [
    "## Which 3 items in 2021 had the greatest count sold?"
   ]
  },
  {
   "cell_type": "code",
   "execution_count": 26,
   "id": "9c65d3e3",
   "metadata": {},
   "outputs": [
    {
     "data": {
      "text/plain": [
       "[{'_id': 'Gold Twists', 'total': 71},\n",
       " {'_id': 'Mini Balls', 'total': 68},\n",
       " {'_id': 'Gold Chocolate Bar Caramel Krispys', 'total': 65}]"
      ]
     },
     "execution_count": 26,
     "metadata": {},
     "output_type": "execute_result"
    }
   ],
   "source": [
    "list(db.Customers.aggregate([\n",
    "    {\"$match\": {\"order.order_date\": {\"$gte\": datetime(2021, 1, 1)},\n",
    "               \"order.order_date\": {\"$lt\": datetime(2022, 1, 1)}}},\n",
    "    {\"$unwind\": \"$order\"},\n",
    "    {\"$unwind\": \"$order.order_items\"},\n",
    "    \n",
    "    {\"$group\": {\"_id\": \"$order.order_items.product_name\", \"total\": {\"$sum\": \"$order.order_items.count\"}}},\n",
    "    {\"$sort\": {\"total\": -1}},\n",
    "    {\"$limit\": 3}\n",
    "]))"
   ]
  },
  {
   "cell_type": "markdown",
   "id": "ea0e7235",
   "metadata": {},
   "source": [
    "## How many total items has the company sold?"
   ]
  },
  {
   "cell_type": "code",
   "execution_count": 27,
   "id": "530dc9b3",
   "metadata": {},
   "outputs": [
    {
     "name": "stdout",
     "output_type": "stream",
     "text": [
      "7116\n"
     ]
    }
   ],
   "source": [
    "# How many items sold?\n",
    "\n",
    "docs = db.Customers.find({}, [\"order\"])\n",
    "\n",
    "n_items_sold = 0\n",
    "\n",
    "for doc in docs:\n",
    "    for order in doc[\"order\"]:\n",
    "        for item in order[\"order_items\"]:\n",
    "            n_items_sold += item[\"count\"]\n",
    "    \n",
    "print(n_items_sold)"
   ]
  }
 ],
 "metadata": {
  "kernelspec": {
   "display_name": "Python 3 (ipykernel)",
   "language": "python",
   "name": "python3"
  },
  "language_info": {
   "codemirror_mode": {
    "name": "ipython",
    "version": 3
   },
   "file_extension": ".py",
   "mimetype": "text/x-python",
   "name": "python",
   "nbconvert_exporter": "python",
   "pygments_lexer": "ipython3",
   "version": "3.9.12"
  }
 },
 "nbformat": 4,
 "nbformat_minor": 5
}
